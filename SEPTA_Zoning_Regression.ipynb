{
 "cells": [
  {
   "cell_type": "markdown",
   "metadata": {},
   "source": [
    "```markdown\n",
    "# Project Title\n",
    "\n",
    "## Summary\n",
    "\n",
    "This Jupyter Notebook document serves as a project workspace for analyzing and visualizing data using Python. It contains multiple cells with code snippets that can be executed independently. The notebook utilizes various libraries such as pandas, numpy, matplotlib, seaborn, and geopandas for data manipulation, analysis, and visualization.\n",
    "\n",
    "The purpose of this project is to demonstrate how to work with Jupyter Notebook and showcase different techniques for data analysis and visualization. Each cell contains a specific task or analysis, and the markdown cells provide explanations and documentation for the workflow.\n",
    "\n",
    "Feel free to explore the code cells and markdown cells to understand the steps involved in the data analysis process. Execute the code cells in the desired order to obtain the results and visualizations.\n",
    "\n",
    "Happy coding!\n",
    "```"
   ]
  },
  {
   "cell_type": "code",
   "execution_count": 1,
   "metadata": {},
   "outputs": [
    {
     "name": "stdout",
     "output_type": "stream",
     "text": [
      "Intel MKL WARNING: Support of Intel(R) Streaming SIMD Extensions 4.2 (Intel(R) SSE4.2) enabled only processors has been deprecated. Intel oneAPI Math Kernel Library 2025.0 will require Intel(R) Advanced Vector Extensions (Intel(R) AVX) instructions.\n",
      "Intel MKL WARNING: Support of Intel(R) Streaming SIMD Extensions 4.2 (Intel(R) SSE4.2) enabled only processors has been deprecated. Intel oneAPI Math Kernel Library 2025.0 will require Intel(R) Advanced Vector Extensions (Intel(R) AVX) instructions.\n"
     ]
    }
   ],
   "source": [
    "import pandas as pd \n",
    "import numpy as np\n",
    "import matplotlib.pyplot as plt\n",
    "import seaborn as sns\n",
    "import geopandas as gpd"
   ]
  },
  {
   "cell_type": "code",
   "execution_count": 3,
   "metadata": {},
   "outputs": [],
   "source": [
    "philly_zoning = gpd.read_file('/Users/owenmcginley/Documents/Summer Projects/Zoning_BaseDistricts')\n",
    "bucks_zoning = gpd.read_file('/Users/owenmcginley/Documents/Summer Projects/Bucks_County_Municipal_Zoning')\n",
    "delco_zoning = gpd.read_file('/Users/owenmcginley/Documents/Summer Projects/Delaware_County_Zoning')\n",
    "ridership = pd.read_csv('/Users/owenmcginley/Documents/Summer Projects/Septa_RR_Ridership_2023.csv')\n",
    "metro_stations = gpd.read_file('/Users/owenmcginley/Documents/Summer Projects/Metro_Stations')\n",
    "stations = gpd.read_file('/Users/owenmcginley/Documents/Summer Projects/Regional_Rail_Stations')\n",
    "\n"
   ]
  },
  {
   "cell_type": "code",
   "execution_count": 4,
   "metadata": {},
   "outputs": [],
   "source": [
    "zoning = pd.concat([philly_zoning, bucks_zoning, delco_zoning])\n",
    "zoning['Combined_Zoning'] = zoning['ZONINGGROU'].fillna('') + zoning['Zoning'].fillna('')\n",
    "zoning = zoning.drop(['ZONINGGROU', 'Zoning'], axis=1)"
   ]
  }
 ],
 "metadata": {
  "kernelspec": {
   "display_name": "Summer_Project",
   "language": "python",
   "name": "python3"
  },
  "language_info": {
   "codemirror_mode": {
    "name": "ipython",
    "version": 3
   },
   "file_extension": ".py",
   "mimetype": "text/x-python",
   "name": "python",
   "nbconvert_exporter": "python",
   "pygments_lexer": "ipython3",
   "version": "3.10.14"
  }
 },
 "nbformat": 4,
 "nbformat_minor": 2
}
